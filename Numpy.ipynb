{
 "cells": [
  {
   "cell_type": "code",
   "execution_count": 12,
   "id": "5587f849",
   "metadata": {},
   "outputs": [
    {
     "data": {
      "text/plain": [
       "array([1, 2, 3, 4])"
      ]
     },
     "execution_count": 12,
     "metadata": {},
     "output_type": "execute_result"
    }
   ],
   "source": [
    "import numpy as np\n",
    "x=np.array([1,2,3,4])\n",
    "x"
   ]
  },
  {
   "cell_type": "code",
   "execution_count": 13,
   "id": "26d58611",
   "metadata": {},
   "outputs": [
    {
     "name": "stdout",
     "output_type": "stream",
     "text": [
      "<class 'numpy.ndarray'>\n",
      "(4,)\n",
      "4\n",
      "1\n",
      "16\n",
      "int32\n"
     ]
    }
   ],
   "source": [
    "print(type(x))\n",
    "print(x.shape)\n",
    "print(x.size)   #toplam veri sayısı\n",
    "print(x.ndim)  #boyut\n",
    "print(x.nbytes ) #depolanan veri bytı \n",
    "print(x.dtype)   #veri tipi"
   ]
  },
  {
   "cell_type": "code",
   "execution_count": 16,
   "id": "13790cae",
   "metadata": {},
   "outputs": [
    {
     "name": "stdout",
     "output_type": "stream",
     "text": [
      "[[1 2 3]\n",
      " [4 5 6]]\n",
      "<class 'numpy.ndarray'>\n",
      "(2, 3)\n",
      "6\n",
      "2\n",
      "24\n",
      "int32\n"
     ]
    }
   ],
   "source": [
    "y = np.array([[1,2,3],[4,5,6]])\n",
    "\n",
    "print(y)\n",
    "print(type(y))\n",
    "print(y.shape)  #2 satır 3 sütun\n",
    "print(y.size)   #toplam veri sayısı\n",
    "print(y.ndim)  #boyut\n",
    "print(y.nbytes)  #depolanan veri byte\n",
    "print(y.dtype)  "
   ]
  },
  {
   "cell_type": "code",
   "execution_count": 17,
   "id": "5a11d8ae",
   "metadata": {},
   "outputs": [
    {
     "name": "stdout",
     "output_type": "stream",
     "text": [
      "[[[1 2]\n",
      "  [3 4]]\n",
      "\n",
      " [[1 2]\n",
      "  [3 4]]]\n",
      "<class 'numpy.ndarray'>\n",
      "(2, 2, 2)\n",
      "8\n",
      "3\n",
      "32\n",
      "int32\n"
     ]
    }
   ],
   "source": [
    "z=np.array([[[1,2],[3,4]],[[1,2],[3,4]]])\n",
    "\n",
    "print(z)\n",
    "print(type(z))\n",
    "print(z.shape)  #2 satır 3 sütun\n",
    "print(z.size)   #toplam veri sayısı\n",
    "print(z.ndim)  #boyut\n",
    "print(z.nbytes)  #depolanan veri byte\n",
    "print(z.dtype)"
   ]
  },
  {
   "cell_type": "code",
   "execution_count": 18,
   "id": "4bea8ada",
   "metadata": {},
   "outputs": [
    {
     "name": "stdout",
     "output_type": "stream",
     "text": [
      "int32\n",
      "<U11\n",
      "float64\n",
      "<U32\n"
     ]
    }
   ],
   "source": [
    "x=np.array([1,2,3,4])\n",
    "print(x.dtype)  #ndarraylar hepsi aynı veri tipidir\n",
    "\n",
    "x=np.array([1,'2',3])\n",
    "print(x.dtype)  #unicode, karışık veri_tipi yani   YANİ BÜTÜN HER ŞEYİ STRİNGE ÇEVİRDİ NUMPY\n",
    "\n",
    "z=np.array([1,2.0,3])\n",
    "print(z.dtype)  # NUMPY HEPSİNİ FLOATA ÇEVİRDİ   #BU DURUMA UPCASTİNG DENİLİYOR\n",
    "\n",
    "f=np.array([1,0.1,\"n\"])\n",
    "print(f.dtype)"
   ]
  },
  {
   "cell_type": "code",
   "execution_count": 19,
   "id": "c14c86e9",
   "metadata": {},
   "outputs": [
    {
     "name": "stdout",
     "output_type": "stream",
     "text": [
      "(4, 3)\n",
      "[[1. 1. 1.]\n",
      " [1. 1. 1.]\n",
      " [1. 1. 1.]\n",
      " [1. 1. 1.]]\n"
     ]
    }
   ],
   "source": [
    "a= np.array([1,2,3])\n",
    "a=np.array([(1,2,3,4),(5,6,7,8)],dtype = float)\n",
    "a=np.zeros((3,2)) ## full 0\n",
    "a=np.ones((4,3))  ## full 1\n",
    "a=np.arange(0,10,2) # ne anlama geldiğini anlarsın zaten\n",
    "a=np.linspace(1,10,5)  # 1 ile 10 arasında 5 tane sayı üretiyor 1 ve 10 en başta ve sonra aralarındaki sayılarda eşit uzaklıkta olacak şekilde\n",
    "a=np.full((2,2),7) ## (2,2) lik bir array oluştur ve 7 ile doldur\n",
    "print(a.shape) \n",
    "print(a)"
   ]
  },
  {
   "cell_type": "code",
   "execution_count": 22,
   "id": "7247b4d0",
   "metadata": {},
   "outputs": [
    {
     "name": "stdout",
     "output_type": "stream",
     "text": [
      "[13  2 14]\n",
      "[13  2 14]\n",
      "[1 7 3]\n"
     ]
    }
   ],
   "source": [
    "a=np.array([1,2,3])\n",
    "z=a.view()\n",
    "f = a.copy()  # copy olarak alırsan copy'i değiştirsen copy değişir, ama view'den bir şey değiştirirsen bütün array değişir\n",
    "z[0] = 13\n",
    "a[2] = 14\n",
    "f[1] = 7\n",
    "print(a)\n",
    "print(z)\n",
    "print(f)"
   ]
  },
  {
   "cell_type": "code",
   "execution_count": 25,
   "id": "671f5314",
   "metadata": {},
   "outputs": [
    {
     "name": "stdout",
     "output_type": "stream",
     "text": [
      "[1 3 5]\n",
      "int32\n",
      "[3. 4. 5.]\n",
      "float64\n"
     ]
    }
   ],
   "source": [
    "f=np.array([1.2,3.4,5.6],dtype=np.int32)\n",
    "print(f)\n",
    "print(f.dtype)\n",
    "\n",
    "z=np.array([3,4,5],dtype=np.float64)  #bu işlemlere downcast deniliyor.\n",
    "print(z)\n",
    "print(z.dtype)"
   ]
  },
  {
   "cell_type": "code",
   "execution_count": 29,
   "id": "fcc5fb5a",
   "metadata": {},
   "outputs": [
    {
     "name": "stdout",
     "output_type": "stream",
     "text": [
      "[1. 2. 3. 4.]\n",
      "float64\n"
     ]
    }
   ],
   "source": [
    "x= np.array([1,2,3,4],dtype=np.float64)\n",
    "\n",
    "x=x.astype(np.complex64)  #karmaşık sayılara çeviriyor. complex64 bir veri tipi\n",
    "print(x)\n",
    "# x = x.astype(float)\n",
    "# print(x)\n",
    "print(x.dtype)"
   ]
  },
  {
   "cell_type": "code",
   "execution_count": 30,
   "id": "ac544b7f",
   "metadata": {},
   "outputs": [
    {
     "name": "stdout",
     "output_type": "stream",
     "text": [
      "[6.2 4.8 7.8]\n",
      "float64\n"
     ]
    }
   ],
   "source": [
    "x1=np.array([1,2,3],dtype=np.int32)\n",
    "x2=np.array([5.2,2.8,4.8],dtype=np.float64)\n",
    "\n",
    "print(x1+x2)\n",
    "print((x1+x2).dtype)"
   ]
  },
  {
   "cell_type": "code",
   "execution_count": 33,
   "id": "d2874910",
   "metadata": {},
   "outputs": [
    {
     "name": "stdout",
     "output_type": "stream",
     "text": [
      "[2. 3. 4. 5.]\n",
      "float64\n"
     ]
    }
   ],
   "source": [
    "y = np.array([4,9,16,25])\n",
    "x = np.sqrt(y)\n",
    "print(x)\n",
    "print(x.dtype)"
   ]
  },
  {
   "cell_type": "code",
   "execution_count": 34,
   "id": "7838b6b2",
   "metadata": {},
   "outputs": [
    {
     "name": "stdout",
     "output_type": "stream",
     "text": [
      "[0. 0. 0. 0.]\n",
      "float64\n"
     ]
    }
   ],
   "source": [
    "x1=np.zeros(4)  #x1=np.zeros(4,dtype=\"int32\") BÖYLE YAPARSAK İNT OLARAK VERİLERİ ALIRIZ.\n",
    "print(x1)\n",
    "print(x1.dtype)"
   ]
  },
  {
   "cell_type": "code",
   "execution_count": 35,
   "id": "cee40dc4",
   "metadata": {},
   "outputs": [
    {
     "name": "stdout",
     "output_type": "stream",
     "text": [
      "[1. 1. 1. 1.]\n",
      "float64\n"
     ]
    }
   ],
   "source": [
    "y1=np.ones(4)\n",
    "print(y1)\n",
    "print(y1.dtype)"
   ]
  },
  {
   "cell_type": "code",
   "execution_count": 38,
   "id": "91235cbb",
   "metadata": {},
   "outputs": [
    {
     "name": "stdout",
     "output_type": "stream",
     "text": [
      "[[[0 0 0 0]\n",
      "  [0 0 0 0]\n",
      "  [0 0 0 0]]\n",
      "\n",
      " [[0 0 0 0]\n",
      "  [0 0 0 0]\n",
      "  [0 0 0 0]]]\n",
      "\n",
      "[[1. 1.]\n",
      " [1. 1.]\n",
      " [1. 1.]]\n"
     ]
    }
   ],
   "source": [
    "x2=np.zeros((2,3,4),dtype=np.int32)  #3 BOYUTLU ARRAY \n",
    "print(x2)\n",
    "print()\n",
    "y2=np.ones((3,2))\n",
    "print(y2)"
   ]
  },
  {
   "cell_type": "code",
   "execution_count": 40,
   "id": "dd051cbd",
   "metadata": {},
   "outputs": [
    {
     "data": {
      "text/plain": [
       "array([[10, 10, 10],\n",
       "       [10, 10, 10]])"
      ]
     },
     "execution_count": 40,
     "metadata": {},
     "output_type": "execute_result"
    }
   ],
   "source": [
    "x=np.full((2,3),10) #10 SAYISI SABİT SAYIDIR BİZ HANGİ SAYIYI YAZMAK İSTİYORSAK ONU YAZARIZ ORAYA\n",
    "x"
   ]
  },
  {
   "cell_type": "code",
   "execution_count": 41,
   "id": "2f665acb",
   "metadata": {},
   "outputs": [
    {
     "name": "stdout",
     "output_type": "stream",
     "text": [
      "[[10. 10. 10.]\n",
      " [10. 10. 10.]]\n",
      "\n",
      "[[10. 10. 10.]\n",
      " [10. 10. 10.]]\n"
     ]
    }
   ],
   "source": [
    "y=10.0*np.ones((2,3))\n",
    "\n",
    "z=10.0+np.zeros((2,3))\n",
    "print(y)\n",
    "print()\n",
    "print(z)"
   ]
  },
  {
   "cell_type": "code",
   "execution_count": 58,
   "id": "52bdf6a5",
   "metadata": {},
   "outputs": [
    {
     "name": "stdout",
     "output_type": "stream",
     "text": [
      "[[1. 0. 0. 0.]\n",
      " [0. 1. 0. 0.]\n",
      " [0. 0. 1. 0.]\n",
      " [0. 0. 0. 1.]]\n",
      "\n",
      "[[1. 0. 0. 0.]\n",
      " [0. 1. 0. 0.]\n",
      " [0. 0. 1. 0.]\n",
      " [0. 0. 0. 1.]\n",
      " [0. 0. 0. 0.]]\n"
     ]
    }
   ],
   "source": [
    "x=np.eye(4)\n",
    "print(x)\n",
    "print()\n",
    "y=np.eye(5,4) #eye fonk tuple şeklinde yazmana gerek yok\n",
    "print(y)"
   ]
  },
  {
   "cell_type": "code",
   "execution_count": 59,
   "id": "6e7d24e1",
   "metadata": {},
   "outputs": [
    {
     "name": "stdout",
     "output_type": "stream",
     "text": [
      "[[1. 0. 0. 0. 0. 0.]\n",
      " [0. 1. 0. 0. 0. 0.]\n",
      " [0. 0. 1. 0. 0. 0.]\n",
      " [0. 0. 0. 1. 0. 0.]\n",
      " [0. 0. 0. 0. 1. 0.]\n",
      " [0. 0. 0. 0. 0. 1.]]\n",
      "\n",
      "[[0. 1. 0. 0. 0. 0.]\n",
      " [0. 0. 1. 0. 0. 0.]\n",
      " [0. 0. 0. 1. 0. 0.]\n",
      " [0. 0. 0. 0. 1. 0.]\n",
      " [0. 0. 0. 0. 0. 1.]\n",
      " [0. 0. 0. 0. 0. 0.]]\n",
      "\n",
      "[[0. 0. 0. 0. 0. 0.]\n",
      " [0. 0. 0. 0. 0. 0.]\n",
      " [1. 0. 0. 0. 0. 0.]\n",
      " [0. 1. 0. 0. 0. 0.]\n",
      " [0. 0. 1. 0. 0. 0.]\n",
      " [0. 0. 0. 1. 0. 0.]]\n"
     ]
    }
   ],
   "source": [
    "x=np.eye(6)\n",
    "print(x)\n",
    "print()\n",
    "y=np.eye(6,k=1)\n",
    "print(y)\n",
    "print()\n",
    "z=np.eye(6,k=-2)\n",
    "print(z)"
   ]
  },
  {
   "cell_type": "code",
   "execution_count": 61,
   "id": "3b54405b",
   "metadata": {},
   "outputs": [
    {
     "name": "stdout",
     "output_type": "stream",
     "text": [
      "[[1. 0. 0. 0. 0.]\n",
      " [0. 1. 0. 0. 0.]\n",
      " [0. 0. 1. 0. 0.]\n",
      " [0. 0. 0. 1. 0.]\n",
      " [0. 0. 0. 0. 1.]]\n",
      "\n",
      "[[ 4  0  0  0]\n",
      " [ 0  7  0  0]\n",
      " [ 0  0 11  0]\n",
      " [ 0  0  0  3]]\n"
     ]
    }
   ],
   "source": [
    "x=np.identity(5)\n",
    "print(x)#EYE FONKSİYONUYLA AYNI İŞLEVDE\n",
    "print()\n",
    "\n",
    "x=np.diag([4,7,11,3])  ## diagonellerde bu sayılar olacak şekilde bir kare matrix oluştur diyoruz.\n",
    "print(x)"
   ]
  },
  {
   "cell_type": "code",
   "execution_count": 66,
   "id": "e1f72d84",
   "metadata": {},
   "outputs": [
    {
     "name": "stdout",
     "output_type": "stream",
     "text": [
      "[0 1 2 3 4 5 6]\n",
      "[ 4  6  8 10 12 14 16 18]\n",
      "\n",
      "[ 0.          1.66666667  3.33333333  5.          6.66666667  8.33333333\n",
      " 10.         11.66666667 13.33333333 15.        ]\n"
     ]
    }
   ],
   "source": [
    "x=np.arange(7)  \n",
    "print(x)#MANTIĞINI ANLARSIN KOLAY\n",
    "y=np.arange(4,19,2)#START, STOP,STEP   ### ve tek boyutlu bir array veriyor\n",
    "print(y)\n",
    "print()\n",
    "x=np.linspace(0,15,10) #10 TANE RAKAM DÖNÜYOR 0 VE 15 DAHİL, bu da tek boyutlu\n",
    "print(x)"
   ]
  },
  {
   "cell_type": "code",
   "execution_count": 67,
   "id": "0b7736de",
   "metadata": {},
   "outputs": [
    {
     "name": "stdout",
     "output_type": "stream",
     "text": [
      "[ 0  1  2  3  4  5  6  7  8  9 10 11 12 13 14 15 16 17 18 19]\n",
      "\n",
      "[[ 0  1  2  3  4]\n",
      " [ 5  6  7  8  9]\n",
      " [10 11 12 13 14]\n",
      " [15 16 17 18 19]]\n",
      "\n",
      "[[[ 0  1  2  3  4]\n",
      "  [ 5  6  7  8  9]]\n",
      "\n",
      " [[10 11 12 13 14]\n",
      "  [15 16 17 18 19]]]\n"
     ]
    }
   ],
   "source": [
    "x=np.arange(20)\n",
    "print(x)\n",
    "print()\n",
    "y=np.reshape(x,(4,5))\n",
    "print(y)\n",
    "print()\n",
    "z=np.reshape(x,(2,2,5))\n",
    "print(z)"
   ]
  },
  {
   "cell_type": "code",
   "execution_count": 69,
   "id": "4e0a6e95",
   "metadata": {},
   "outputs": [
    {
     "name": "stdout",
     "output_type": "stream",
     "text": [
      "[ 0.  1.  2.  3.  4.  5.  6.  7.  8.  9. 10. 11. 12. 13. 14. 15. 16. 17.\n",
      " 18. 19.]\n",
      "\n",
      "[[ 0.  1.  2.  3.  4.  5.  6.  7.  8.  9.]\n",
      " [10. 11. 12. 13. 14. 15. 16. 17. 18. 19.]]\n",
      "\n",
      "[[ 0.  1.  2.  3.  4.  5.  6.  7.  8.  9.]\n",
      " [10. 11. 12. 13. 14. 15. 16. 17. 18. 19.]]\n"
     ]
    }
   ],
   "source": [
    "x=np.linspace(0,19,20)\n",
    "print(x)\n",
    "print()\n",
    "y=np.reshape(x,(2,10))\n",
    "print(y)\n",
    "print()\n",
    "z=np.linspace(0,19,20).reshape(2,10) #TEK SATIRDA DA YAZABİLİRİZ KODU\n",
    "print(z)"
   ]
  },
  {
   "cell_type": "code",
   "execution_count": 70,
   "id": "753487c4",
   "metadata": {},
   "outputs": [
    {
     "name": "stdout",
     "output_type": "stream",
     "text": [
      "[[0.85833415 0.93846601 0.919527  ]\n",
      " [0.99841763 0.84015151 0.51509952]]\n",
      "\n",
      "[[ 9  6]\n",
      " [ 4  6]\n",
      " [ 9 11]]\n"
     ]
    }
   ],
   "source": [
    "x=np.random.random((2,3)) #MATRİSİN ELEMANLARI 0,1 ARASINDA OLUR AMA 1 DAHİL DEĞİLDİR\n",
    "print(x)\n",
    "print()\n",
    "x=np.random.randint(3,12,size=(3,2))#BAŞLANGIÇ NOKTASINI VE BİTİŞ NOKTASINI ALIYORSUN VE MATRİSİ VERİYORSUN İNT OLARAK ÇIKTI ALIYORSUN \n",
    "print(x)"
   ]
  },
  {
   "cell_type": "code",
   "execution_count": 71,
   "id": "a2f9575f",
   "metadata": {},
   "outputs": [
    {
     "name": "stdout",
     "output_type": "stream",
     "text": [
      "[0 1 2 3 4]\n",
      "0\n",
      "2\n",
      "0\n",
      "4\n",
      "[  0   1 200   3   4]\n"
     ]
    }
   ],
   "source": [
    "x=np.arange(5)\n",
    "print(x)\n",
    "print(x[0])\n",
    "print(x[2])\n",
    "print(x[-5])\n",
    "print(x[-1])\n",
    "\n",
    "x[2]=200\n",
    "print(x)"
   ]
  },
  {
   "cell_type": "code",
   "execution_count": null,
   "id": "2f1c526d",
   "metadata": {},
   "outputs": [],
   "source": [
    "x=np.arange(12).reshape(3,4)\n",
    "print(x)\n",
    "print()\n",
    "print(x[0,0])\n",
    "print(x[1,3])\n",
    "\n",
    "x[0,0]=100\n",
    "print(x[0,0])"
   ]
  },
  {
   "cell_type": "code",
   "execution_count": null,
   "id": "b81f7419",
   "metadata": {},
   "outputs": [],
   "source": [
    "x=np.array((4,6,0,2,7))\n",
    "print(x)\n",
    "y=np.delete(x,[0,2])#BURADA İNDEX VERİYORUZ np.arange() yapsakta aynı olur , 0. indexi ve 2. indexi sildik\n",
    "print(y)\n",
    "print(x)\n"
   ]
  },
  {
   "cell_type": "code",
   "execution_count": null,
   "id": "94e4a317",
   "metadata": {},
   "outputs": [],
   "source": [
    "\n",
    "#AXİS=0 ROW ,AXİS=1 COLUMN\n",
    "\n",
    "x = np.arange(16).reshape(4,4)\n",
    "print(x)\n",
    "x = np.delete(x,1,axis=0)\n",
    "print()\n",
    "print(x)\n",
    "\n",
    "x=np.delete(x,[0,2],axis=1)\n",
    "print()\n",
    "print(x)"
   ]
  },
  {
   "cell_type": "code",
   "execution_count": null,
   "id": "4a723bfd",
   "metadata": {},
   "outputs": [],
   "source": [
    "x=np.arange(5)\n",
    "print(x)\n",
    "x=np.append(x,100)\n",
    "print(x)\n",
    "x=np.append(x,[200,300])\n",
    "print(x)"
   ]
  },
  {
   "cell_type": "code",
   "execution_count": 74,
   "id": "574ed388",
   "metadata": {},
   "outputs": [
    {
     "name": "stdout",
     "output_type": "stream",
     "text": [
      "[[0 1 2]\n",
      " [3 4 5]\n",
      " [6 7 8]]\n",
      "[[  0   1   2]\n",
      " [  3   4   5]\n",
      " [  6   7   8]\n",
      " [100 200 300]]\n"
     ]
    }
   ],
   "source": [
    "x=np.arange(9).reshape(3,3)\n",
    "print(x)\n",
    "x=np.append(x,[[100,200,300]],axis=0)  # Burada 2 tane parantez ile veriyi göndermen gerekiyor.Bir dataframe olarak gönderiyoruz öyle düşün\n",
    "print(x)"
   ]
  },
  {
   "cell_type": "code",
   "execution_count": 76,
   "id": "02b8b439",
   "metadata": {},
   "outputs": [
    {
     "name": "stdout",
     "output_type": "stream",
     "text": [
      "[[ 0  1  2 10]\n",
      " [ 3  4  5 20]\n",
      " [ 6  7  8 30]]\n"
     ]
    }
   ],
   "source": [
    "x=np.arange(9).reshape(3,3)\n",
    "x=np.append(x,[[10],[20],[30]],axis=1) \n",
    "print(x)"
   ]
  },
  {
   "cell_type": "code",
   "execution_count": null,
   "id": "63a54551",
   "metadata": {},
   "outputs": [],
   "source": [
    "x=np.arange(5)\n",
    "print(x)\n",
    "x=np.insert(x,1,10)#ilk kısım array ikincisi index üçüncü yerleştirmek istediğimiz element son kısım axis\n",
    "print(x)\n",
    "x=np.insert(x,1,[10,20]) \n",
    "print(x)"
   ]
  },
  {
   "cell_type": "code",
   "execution_count": 79,
   "id": "fdf7b933",
   "metadata": {},
   "outputs": [
    {
     "name": "stdout",
     "output_type": "stream",
     "text": [
      "[[0 1 2]\n",
      " [3 4 5]\n",
      " [6 7 8]]\n",
      "[[  0   1   2]\n",
      " [100 200 300]\n",
      " [  3   4   5]\n",
      " [  6   7   8]]\n",
      "\n"
     ]
    }
   ],
   "source": [
    "x=np.arange(9).reshape(3,3)\n",
    "print(x)\n",
    "x=np.insert(x,1,[100,200,300],axis=0)\n",
    "print(x)\n",
    "print()\n",
    "##x=np.insert(x,0,[[10,20,30]],axis=1) #APPEND EDERKEN AYRI AYRI LİSTE HALİNE ALIYORUZ \n",
    "##print(x)"
   ]
  },
  {
   "cell_type": "code",
   "execution_count": 83,
   "id": "ebf52ebd",
   "metadata": {},
   "outputs": [
    {
     "name": "stdout",
     "output_type": "stream",
     "text": [
      "[[0 1 2]\n",
      " [0 1 2]\n",
      " [3 4 5]\n",
      " [6 7 8]]\n",
      "\n",
      "[0 1 2 0 1 2 3 4 5 6 7 8]\n"
     ]
    }
   ],
   "source": [
    "x=np.arange(3)\n",
    "y=np.arange(9).reshape(3,3)\n",
    "\n",
    "z=np.vstack((x,y))#X İ Y NİN TEPESİNE KOY DEMEK VERTİCAL STACK\n",
    "print(z)\n",
    "print()\n",
    "t=np.hstack((x,y.reshape(9,)))#HORİZOTAL STACK   #FARKETTİYSEN ÖNCE Y NİN MATRİSİNİ DEĞİŞTİRİYRUZ SONRA BİRLEŞTİRİYORUZ.\n",
    "print(t)\n"
   ]
  },
  {
   "cell_type": "code",
   "execution_count": null,
   "id": "d2d5af1f",
   "metadata": {},
   "outputs": [],
   "source": [
    "#SLİCİNG AND COPY\n",
    "\n",
    "x=np.arange(10)\n",
    "print(x)\n",
    "print()\n",
    "print(x[2:6])#2.indexten 6.indexe doğru ama 6 alınmıyor tabi\n",
    "print(x[4:])\n",
    "print(x[:7])\n",
    "print(x[:-1])\n",
    "print(x[-4:-2])"
   ]
  },
  {
   "cell_type": "code",
   "execution_count": null,
   "id": "0029fe94",
   "metadata": {},
   "outputs": [],
   "source": [
    "x=np.arange(25).reshape(5,5)\n",
    "print(x)\n",
    "print()\n",
    "y=x[0:3,1:4]\n",
    "print(y)\n",
    "print()\n",
    "z=x[2:]\n",
    "print(z)\n",
    "print()\n",
    "t=x[::]\n",
    "print(t)\n",
    "print()\n",
    "v=x[:,3:]\n",
    "print(v)"
   ]
  },
  {
   "cell_type": "code",
   "execution_count": 84,
   "id": "c557dad4",
   "metadata": {},
   "outputs": [
    {
     "name": "stdout",
     "output_type": "stream",
     "text": [
      "[[0 1 2]\n",
      " [3 4 5]\n",
      " [6 7 8]]\n",
      "\n",
      "[[3 4]]\n",
      "[[100   1   2]\n",
      " [  3   4   5]\n",
      " [  6   7   8]]\n",
      "\n",
      "[100   1   2   3   4   5   6   7   8]\n",
      "True\n"
     ]
    }
   ],
   "source": [
    "x=np.arange(9)\n",
    "y=x.reshape(3,3)\n",
    "\n",
    "z=y[1:2,0:2]\n",
    "print(z)\n",
    "\n",
    "y[0,0]=100\n",
    "print(y)\n",
    "print()\n",
    "print(x)#X TE DEĞİŞİKLİĞE UĞRADI FARK ET\n",
    "\n",
    "print(np.shares_memory(x,y))#YANİ X İLE Y DEKİ DEĞİŞİKLİKLER BİRBİRİNİ ETKİLER ,HAFIZADAKİ YERLER AYNI YERDE TUTULUR."
   ]
  },
  {
   "cell_type": "code",
   "execution_count": 86,
   "id": "1a0d2937",
   "metadata": {},
   "outputs": [
    {
     "name": "stdout",
     "output_type": "stream",
     "text": [
      "False\n",
      "[[100   2]\n",
      " [  5   6]\n",
      " [  9  10]]\n",
      "[[ 0  1  2  3]\n",
      " [ 4  5  6  7]\n",
      " [ 8  9 10 11]\n",
      " [12 13 14 15]]\n",
      "\n",
      "[[5]]\n",
      "False\n"
     ]
    }
   ],
   "source": [
    "x=np.arange(16).reshape(4,4)\n",
    "y=np.copy(x[0:3,1:3])\n",
    "\n",
    "print(np.shares_memory(x,y))#COPY\n",
    "\n",
    "y[0,0]=100\n",
    "\n",
    "print(y)\n",
    "print(x)\n",
    "print()\n",
    "z=x[1:2,1:2].copy()\n",
    "print(z)\n",
    "\n",
    "print(np.shares_memory(x,z))\n"
   ]
  },
  {
   "cell_type": "code",
   "execution_count": null,
   "id": "c8b5f62d",
   "metadata": {},
   "outputs": [],
   "source": [
    "#FANCY İNDEXİNG AND BOOLEAN İNDEXİNG\n",
    "\n",
    "x=np.linspace(1,21,11)\n",
    "print(x)\n",
    "\n",
    "y=np.array((2,4,7))\n",
    "print(y)\n",
    "print()\n",
    "print(x[y]) #önce 2.indexteki elemanı gösterdi sonra 4 indexteki en sonda 7 indexteki\n"
   ]
  },
  {
   "cell_type": "code",
   "execution_count": 89,
   "id": "2b711990",
   "metadata": {},
   "outputs": [
    {
     "name": "stdout",
     "output_type": "stream",
     "text": [
      "[[ 5  6  7  8  9]\n",
      " [10 11 12 13 14]]\n",
      "\n",
      "[[ 1  2]\n",
      " [ 6  7]\n",
      " [11 12]\n",
      " [16 17]\n",
      " [21 22]]\n",
      "\n",
      "[[ 5  6  7  8  9]\n",
      " [10 11 12 13 14]]\n",
      "\n",
      "[[100   6   7   8   9]\n",
      " [ 10  11  12  13  14]]\n",
      "\n",
      "[[ 0  1  2  3  4]\n",
      " [ 5  6  7  8  9]\n",
      " [10 11 12 13 14]\n",
      " [15 16 17 18 19]\n",
      " [20 21 22 23 24]]\n",
      "False\n"
     ]
    }
   ],
   "source": [
    "x=np.arange(25).reshape(5,5)\n",
    "y=np.array((1,2))\n",
    "\n",
    "print(x[y,:]) #index 1 ve 2 yi alıyor.\n",
    "print()\n",
    "print(x[:,y])\n",
    "print()\n",
    "\n",
    "z=x[y,:]\n",
    "print(z)\n",
    "z[0,0]=100\n",
    "print()\n",
    "print(z)\n",
    "print()\n",
    "print(x)# ORJİNAL NDARRAY DEĞİŞMEDİ BUNA FANCY ANDARRAY DENİLİYOR. X BİZİM ORJİNAL NDARRAYİMİZDİ SONRA Y Yİ OLUŞTURDUK SONRA Z Yİ OLUŞTURDUK VE Z Yİ DEĞİŞTİRDİK PRİNT YAPTIĞIMIZDA DA X DEĞİŞMEDİĞİNİ GÖRDÜK\n",
    "print(np.shares_memory(x,y))#fancy indexing"
   ]
  },
  {
   "cell_type": "code",
   "execution_count": 91,
   "id": "210a074b",
   "metadata": {},
   "outputs": [
    {
     "name": "stdout",
     "output_type": "stream",
     "text": [
      "[0 1 2 3 4 5 6 7 8 9]\n",
      "[0 2 4 6 8]\n",
      "[0 2 4 6 8]\n",
      "\n",
      "[0 1 2 3 4 5 6 7 8 9]\n"
     ]
    }
   ],
   "source": [
    "x=np.arange(10)\n",
    "\n",
    "print(x[x%2==0])#x in elemanları iki ile bölünenleri 0 olanları bana yaz\n",
    "z=x[x%2==0]\n",
    "print(z)\n",
    "print()\n",
    "print(x) #FANCY VE BOOLİNG İNDEXTE YAPILAN DEĞİŞİKLER ANA İNDEXİ ETKİLEMİYOR "
   ]
  },
  {
   "cell_type": "code",
   "execution_count": 92,
   "id": "aaa7cd25",
   "metadata": {},
   "outputs": [
    {
     "name": "stdout",
     "output_type": "stream",
     "text": [
      "[False False  True False  True False  True False  True  True]\n",
      "<class 'numpy.ndarray'>\n",
      "bool\n",
      "\n",
      "False\n",
      "True\n"
     ]
    }
   ],
   "source": [
    "x=np.random.randint(10,size=10) #Rastgele 10 tane sayı üretiliyor.\n",
    "y=np.random.randint(10,size=10)\n",
    "\n",
    "print(x>y)\n",
    "print(type(x>y)) \n",
    "print((x>y).dtype)\n",
    "\n",
    "print()\n",
    "print(np.all(x>y)) #HEPSİ BÜYÜK MÜ DİYOR\n",
    "print(np.any(x>y)) #SADECE BİRİ BİLE OLSA BÜYÜK MÜ DİYOR"
   ]
  },
  {
   "cell_type": "code",
   "execution_count": 95,
   "id": "3c116c1f",
   "metadata": {},
   "outputs": [
    {
     "name": "stdout",
     "output_type": "stream",
     "text": [
      "[ 3.  9. 15. 21.]\n",
      "[ 1. -1.  5.  7. -1. 11. 13. -1. 17. 19. -1.]\n"
     ]
    }
   ],
   "source": [
    "x=np.linspace(1,21,11)\n",
    "\n",
    "mask=(x%3==0)\n",
    "\n",
    "print(x[mask])#diyoruz ki bize bu mask değerinden true olanları (elemanları) göster\n",
    "\n",
    "x[mask]=-1\n",
    "print(x)"
   ]
  },
  {
   "cell_type": "code",
   "execution_count": 96,
   "id": "7d00c4b7",
   "metadata": {},
   "outputs": [
    {
     "name": "stdout",
     "output_type": "stream",
     "text": [
      "[3 6]\n",
      "<class 'numpy.ndarray'>\n",
      "[2 5 9]\n",
      "[1 7 8]\n",
      "[1 2 3 5 6 7 8 9]\n"
     ]
    }
   ],
   "source": [
    "x=np.array([2,5,3,6,9])\n",
    "y=np.array([6,1,8,7,3])\n",
    "\n",
    "print(np.intersect1d(x,y)) #ORTAK ELEMANLARI ALIYOR VE PRİNTLİYOR\n",
    "print(type(np.intersect1d(x,y))) \n",
    "\n",
    "\n",
    "print(np.setdiff1d(x,y)) #X TE OLUP Y DE OLMAYAN ELEMANLARI GÖSTERECEK\n",
    "print(np.setdiff1d(y,x))#Y DE OLUP X TE OLMAYANLAR\n",
    "\n",
    "\n",
    "print(np.union1d(x,y)) \n",
    "print(np.in1d(x,y))"
   ]
  },
  {
   "cell_type": "code",
   "execution_count": 97,
   "id": "88aa45ef",
   "metadata": {},
   "outputs": [
    {
     "name": "stdout",
     "output_type": "stream",
     "text": [
      "[0 1 2 3 5 6 9]\n",
      "[6 7 2 3 5 3 7 4 6 7]\n",
      "[2 3 3 4 5 6 6 7 7 7]\n",
      "[6 7 2 3 5 3 7 4 6 7]\n"
     ]
    }
   ],
   "source": [
    "z=np.array([2,5,3,6,9,1,0,5,2,3,3])\n",
    "\n",
    "print(np.unique(z)) #bir matrste birden fazla olan elemanları tek bir defa alıp printliyor aslında set() fonksiyonuna benzer.\n",
    "\n",
    "z=np.random.randint(1,10,size=(10,))\n",
    "print(z)\n",
    "print(np.sort(z))\n",
    "print(z)#ORJİNAL ARRAYDE DEĞİŞİKLİK YOK\n"
   ]
  },
  {
   "cell_type": "code",
   "execution_count": 98,
   "id": "de398d91",
   "metadata": {},
   "outputs": [
    {
     "name": "stdout",
     "output_type": "stream",
     "text": [
      "[6 9 3 3 9 5 3 1 4 1]\n",
      "[1 1 3 3 3 4 5 6 9 9]\n"
     ]
    }
   ],
   "source": [
    "y=np.random.randint(1,10,size=(10,))\n",
    "y.sort()\n",
    "print(y)"
   ]
  },
  {
   "cell_type": "code",
   "execution_count": 99,
   "id": "508c45d1",
   "metadata": {},
   "outputs": [
    {
     "name": "stdout",
     "output_type": "stream",
     "text": [
      "[[9 5 4 4 6]\n",
      " [9 2 6 2 7]\n",
      " [7 7 8 1 6]\n",
      " [3 8 7 9 9]\n",
      " [4 7 3 9 5]]\n",
      "\n",
      "[[3 2 3 1 5]\n",
      " [4 5 4 2 6]\n",
      " [7 7 6 4 6]\n",
      " [9 7 7 9 7]\n",
      " [9 8 8 9 9]]\n",
      "\n",
      "[[4 4 5 6 9]\n",
      " [2 2 6 7 9]\n",
      " [1 6 7 7 8]\n",
      " [3 7 8 9 9]\n",
      " [3 4 5 7 9]]\n",
      "\n",
      "[[4 4 5 6 9]\n",
      " [2 2 6 7 9]\n",
      " [1 6 7 7 8]\n",
      " [3 7 8 9 9]\n",
      " [3 4 5 7 9]]\n"
     ]
    }
   ],
   "source": [
    "x=np.random.randint(1,10,size=(5,5))\n",
    "print(x)\n",
    "print()\n",
    "print(np.sort(x,axis=0))\n",
    "print()\n",
    "print(np.sort(x,axis=1))\n",
    "print()\n",
    "print(np.sort(x))  # BU HEM COLUMN İÇİN HEM ROW İÇİN SIRALIYOR."
   ]
  },
  {
   "cell_type": "code",
   "execution_count": 102,
   "id": "6c8b1194",
   "metadata": {},
   "outputs": [
    {
     "name": "stdout",
     "output_type": "stream",
     "text": [
      "[4 5 4 8 6]\n",
      "[3 9 8 6 7]\n",
      "27\n",
      "[False False False False False]\n",
      "False\n",
      "[ 7 14 12 14 13]\n",
      "[ 7 14 12 14 13]\n",
      "<class 'numpy.ndarray'>\n",
      "\n",
      "[ 1 -4 -4  2 -1]\n",
      "[ 1 -4 -4  2 -1]\n",
      "\n",
      "[12 45 32 48 42]\n",
      "[12 45 32 48 42]\n",
      "\n",
      "[1.33333333 0.55555556 0.5        1.33333333 0.85714286]\n",
      "[1.33333333 0.55555556 0.5        1.33333333 0.85714286]\n"
     ]
    }
   ],
   "source": [
    "x=np.random.randint(1,10,size=5)\n",
    "print(x)\n",
    "y=np.random.randint(1,10,size=5)\n",
    "print(y)\n",
    "print(np.sum(x)) # X İN TOPLAMINI VERİYOR\n",
    "print(x==y)\n",
    "# 4 İŞLEM YAPARKEN DİKKAT EDİLMESİ GEREKEN EN ÖNEMLİ ŞEY BOYUTLARI VE ELEMAN SAYILARI EŞİT OLMASI LAZIM EĞER EŞİT DEĞİLLERSE KOD HATA VERİR.\n",
    "print(np.array_equal(x,y))#BURADA HER ELEMAN AYNI MI DİYE SORUYORUZ\n",
    "print(x+y)#indexlere göre toplama yapıyor\n",
    "print(np.add(x,y))#print(x+y)'nin farklı bir yazılışı\n",
    "print(type(x+y))\n",
    "\n",
    "print()\n",
    "print(x-y)\n",
    "print(np.subtract(x,y))\n",
    "print()\n",
    "\n",
    "print(x*y)\n",
    "print(np.multiply(x,y))\n",
    "print()\n",
    "\n",
    "print(x/y)\n",
    "print(np.divide(x,y))"
   ]
  },
  {
   "cell_type": "code",
   "execution_count": 101,
   "id": "cb2d980b",
   "metadata": {},
   "outputs": [
    {
     "name": "stdout",
     "output_type": "stream",
     "text": [
      "[12  4 10 10  7]\n",
      "[ 6 -2  4  4  1]\n",
      "[27  3 21 21 12]\n",
      "[3.         0.33333333 2.33333333 2.33333333 1.33333333]\n",
      "[3.         1.         2.64575131 2.64575131 2.        ]\n",
      "[729   1 343 343  64]\n",
      "[8.10308393e+03 2.71828183e+00 1.09663316e+03 1.09663316e+03\n",
      " 5.45981500e+01]\n"
     ]
    }
   ],
   "source": [
    "print(x+3)\n",
    "print(x-3)\n",
    "print(x*3)\n",
    "print(x/3)\n",
    "\n",
    "print(np.sqrt(x))#KAREKÖKLERİNİ ALIYOR\n",
    "print(np.power(x,3))#X İN KÜPÜNÜ ALIYORUZ\n",
    "print(np.exp(x))"
   ]
  },
  {
   "cell_type": "code",
   "execution_count": null,
   "id": "e2849c85",
   "metadata": {},
   "outputs": [],
   "source": [
    "x=np.random.randint(1,10,size=9).reshape(3,3)\n",
    "print(x)\n",
    "print(x.sum(axis=0))#sütun toplamı\n",
    "print(x.sum(axis=1))#satır toplamı\n",
    "print(x.min())\n",
    "print(x.max())\n",
    "print(np.sum(x,axis=0)) #BÖYLE DE YAPABİLİRSİN. SANA KALMIŞ FIRAT\n",
    "print(x.argmin())# EN KÜÇÜK ELEMANIN İNDEX SIRASI\n",
    "print(x.argmax())#EN BÜYÜK ELEMANIN İNDEX SIRASI "
   ]
  },
  {
   "cell_type": "code",
   "execution_count": 103,
   "id": "c528e210",
   "metadata": {},
   "outputs": [
    {
     "name": "stdout",
     "output_type": "stream",
     "text": [
      "[3 4 6 3 9 5 6 7]\n",
      "\n",
      "5.375\n",
      "5.5\n",
      "1.9324531042175384\n"
     ]
    }
   ],
   "source": [
    "x=np.random.randint(1,10,size=8)\n",
    "print(x)\n",
    "print()\n",
    "\n",
    "print(x.mean())#ARİTMATİK ORTALAMA\n",
    "print(np.median(x))#medyan\n",
    "print(x.std())#standart sapma"
   ]
  },
  {
   "cell_type": "code",
   "execution_count": 105,
   "id": "a25d17de",
   "metadata": {},
   "outputs": [
    {
     "name": "stdout",
     "output_type": "stream",
     "text": [
      "[2 9]\n",
      "\n",
      "[[9 7]\n",
      " [1 6]\n",
      " [6 8]]\n",
      "\n",
      "[[11 16]\n",
      " [ 3 15]\n",
      " [ 8 17]]\n"
     ]
    }
   ],
   "source": [
    "x=np.random.randint(1,10,size=(2))#ŞEKLİN GERİ KALANINI DOLDURUYORUZ+\n",
    "print(x)\n",
    "print()\n",
    "y=np.random.randint(1,10,size=(3,2))\n",
    "print(y)\n",
    "print()\n",
    "\n",
    "###BROADCASTİNG(AYNI SHAPE SAHİP OLMAYANLAR İÇİN)\n",
    "\n",
    "print(x+y)"
   ]
  },
  {
   "cell_type": "code",
   "execution_count": null,
   "id": "d389777e",
   "metadata": {},
   "outputs": [],
   "source": []
  }
 ],
 "metadata": {
  "kernelspec": {
   "display_name": "Python 3 (ipykernel)",
   "language": "python",
   "name": "python3"
  },
  "language_info": {
   "codemirror_mode": {
    "name": "ipython",
    "version": 3
   },
   "file_extension": ".py",
   "mimetype": "text/x-python",
   "name": "python",
   "nbconvert_exporter": "python",
   "pygments_lexer": "ipython3",
   "version": "3.11.3"
  }
 },
 "nbformat": 4,
 "nbformat_minor": 5
}
